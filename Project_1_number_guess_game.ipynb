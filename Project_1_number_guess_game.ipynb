{
  "nbformat": 4,
  "nbformat_minor": 0,
  "metadata": {
    "colab": {
      "provenance": []
    },
    "kernelspec": {
      "name": "python3",
      "display_name": "Python 3"
    },
    "language_info": {
      "name": "python"
    }
  },
  "cells": [
    {
      "cell_type": "code",
      "execution_count": 1,
      "metadata": {
        "id": "4oPIzwOkIx5E"
      },
      "outputs": [],
      "source": [
        "import pandas as pd\n",
        "import numpy as np\n",
        "import random\n",
        "import math"
      ]
    },
    {
      "cell_type": "code",
      "source": [
        "import random\n",
        "\n",
        "def number_guessing_game():\n",
        "    print(\"Welcome to the Number Guessing Game!\")\n",
        "    print(\"I'm thinking of a number between 1 and 100.\")\n",
        "\n",
        "    # Select random number\n",
        "    answer = random.randint(1, 100)\n",
        "\n",
        "    # Choose difficulty\n",
        "    difficulty = input(\"Choose a difficulty. Type 'easy' or 'hard': \").lower()\n",
        "    attempts = 10 if difficulty == \"easy\" else 5\n",
        "\n",
        "    def check_guess(guess, answer, attempts):\n",
        "        if guess > answer:\n",
        "            print(\"Too high.\")\n",
        "            return attempts - 1\n",
        "        elif guess < answer:\n",
        "            print(\"Too low.\")\n",
        "            return attempts - 1\n",
        "        else:\n",
        "            print(f\"Correct! The answer was {answer}.\")\n",
        "            return 0\n",
        "\n",
        "    guess = 0\n",
        "    while guess != answer and attempts > 0:\n",
        "        print(f\"You have {attempts} attempts remaining to guess the number.\")\n",
        "        try:\n",
        "            guess = int(input(\"Make a guess: \"))\n",
        "        except ValueError:\n",
        "            print(\"Please enter a valid number.\")\n",
        "            continue\n",
        "\n",
        "        attempts = check_guess(guess, answer, attempts)\n",
        "        if guess != answer and attempts > 0:\n",
        "            print(\"Guess again.\\n\")\n",
        "        elif attempts == 0 and guess != answer:\n",
        "            print(f\"You've run out of guesses. The correct number was {answer}. Game over.\")\n",
        "\n",
        "# Run the game\n",
        "number_guessing_game()\n"
      ],
      "metadata": {
        "colab": {
          "base_uri": "https://localhost:8080/"
        },
        "id": "kyE-yKxpUuip",
        "outputId": "625e1137-8366-445b-f057-36c0489be372"
      },
      "execution_count": 48,
      "outputs": [
        {
          "output_type": "stream",
          "name": "stdout",
          "text": [
            "Welcome to the Number Guessing Game!\n",
            "I'm thinking of a number between 1 and 100.\n",
            "Choose a difficulty. Type 'easy' or 'hard': easy\n",
            "You have 10 attempts remaining to guess the number.\n",
            "Make a guess: 66\n",
            "Too high.\n",
            "Guess again.\n",
            "\n",
            "You have 9 attempts remaining to guess the number.\n",
            "Make a guess: 30\n",
            "Too low.\n",
            "Guess again.\n",
            "\n",
            "You have 8 attempts remaining to guess the number.\n",
            "Make a guess: 20\n",
            "Too low.\n",
            "Guess again.\n",
            "\n",
            "You have 7 attempts remaining to guess the number.\n",
            "Make a guess: 80\n",
            "Too high.\n",
            "Guess again.\n",
            "\n",
            "You have 6 attempts remaining to guess the number.\n",
            "Make a guess: 60\n",
            "Too high.\n",
            "Guess again.\n",
            "\n",
            "You have 5 attempts remaining to guess the number.\n",
            "Make a guess: 55\n",
            "Too high.\n",
            "Guess again.\n",
            "\n",
            "You have 4 attempts remaining to guess the number.\n",
            "Make a guess: 48\n",
            "Too high.\n",
            "Guess again.\n",
            "\n",
            "You have 3 attempts remaining to guess the number.\n",
            "Make a guess: 45\n",
            "Too low.\n",
            "Guess again.\n",
            "\n",
            "You have 2 attempts remaining to guess the number.\n",
            "Make a guess: 46\n",
            "Too low.\n",
            "Guess again.\n",
            "\n",
            "You have 1 attempts remaining to guess the number.\n",
            "Make a guess: 47\n",
            "Correct! The answer was 47.\n"
          ]
        }
      ]
    }
  ]
}